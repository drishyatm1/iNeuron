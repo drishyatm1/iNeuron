{
 "cells": [
  {
   "cell_type": "code",
   "execution_count": 9,
   "id": "56647243",
   "metadata": {},
   "outputs": [
    {
     "name": "stdout",
     "output_type": "stream",
     "text": [
      "enter the limit :8\n",
      "1\n",
      "1\n",
      "2\n",
      "3\n",
      "5\n",
      "8\n",
      "13\n",
      "21\n"
     ]
    }
   ],
   "source": [
    "#Write a Python Program to Display Fibonacci Sequence Using Recursion?\n",
    "def fib(n):\n",
    "    if(n==1 or n==2):\n",
    "        return 1\n",
    "    else:\n",
    "        return (fib(n-1)+fib(n-2))\n",
    "n=int(input(\"enter the limit :\"))\n",
    "for i in range(1,n+1):            \n",
    "    print(fib(i))           \n",
    "\n"
   ]
  },
  {
   "cell_type": "code",
   "execution_count": 14,
   "id": "3d092fe2",
   "metadata": {},
   "outputs": [
    {
     "name": "stdout",
     "output_type": "stream",
     "text": [
      "enter the number :6\n",
      "720\n"
     ]
    }
   ],
   "source": [
    "#Write a Python Program to Find Factorial of Number Using Recursion?\n",
    "def fact(n):\n",
    "    fac=1\n",
    "    if(n==1 ):\n",
    "        return 1\n",
    "    else:\n",
    "        return n*fact(n-1)\n",
    "n=int(input(\"enter the number :\"))\n",
    "print(fact(n))"
   ]
  },
  {
   "cell_type": "code",
   "execution_count": 17,
   "id": "6e4d7758",
   "metadata": {},
   "outputs": [
    {
     "name": "stdout",
     "output_type": "stream",
     "text": [
      "enter weight in kgs : 85\n",
      "enter height in meter :1.75\n",
      "your BMI is 27.755102040816325\n"
     ]
    }
   ],
   "source": [
    "#Write a Python Program to calculate your Body Mass Index?\n",
    "w=float(input(\"enter weight in kgs : \"))\n",
    "h=float(input(\"enter height in meter :\"))\n",
    "BMI=w/(h*h)\n",
    "print(f\"your BMI is {BMI}\")"
   ]
  },
  {
   "cell_type": "code",
   "execution_count": 24,
   "id": "4e32da1a",
   "metadata": {},
   "outputs": [
    {
     "name": "stdout",
     "output_type": "stream",
     "text": [
      "enter input : 5\n",
      "log(x) = 1.6094379124341003\n"
     ]
    }
   ],
   "source": [
    "#Write a Python Program to calculate the natural logarithm of any number?\n",
    "import math\n",
    "x=float(input(\"enter input : \"))\n",
    "b= math.log(x)\n",
    "print(f\"log(x) = {b}\")"
   ]
  },
  {
   "cell_type": "code",
   "execution_count": 38,
   "id": "f3bebe21",
   "metadata": {},
   "outputs": [
    {
     "name": "stdout",
     "output_type": "stream",
     "text": [
      "enter the limit : 4\n",
      " Cube Sum = 100\n"
     ]
    }
   ],
   "source": [
    "#Write a Python Program for cube sum of first n natural numbers?\n",
    "n=int(input(\"enter the limit : \"))\n",
    "s=0\n",
    "for i in range(n+1):\n",
    "    s=s+pow(i,3)\n",
    "print(f\" Cube Sum = {s}\")"
   ]
  },
  {
   "cell_type": "code",
   "execution_count": null,
   "id": "a51601d8",
   "metadata": {},
   "outputs": [],
   "source": []
  }
 ],
 "metadata": {
  "kernelspec": {
   "display_name": "Python 3 (ipykernel)",
   "language": "python",
   "name": "python3"
  },
  "language_info": {
   "codemirror_mode": {
    "name": "ipython",
    "version": 3
   },
   "file_extension": ".py",
   "mimetype": "text/x-python",
   "name": "python",
   "nbconvert_exporter": "python",
   "pygments_lexer": "ipython3",
   "version": "3.9.12"
  }
 },
 "nbformat": 4,
 "nbformat_minor": 5
}
