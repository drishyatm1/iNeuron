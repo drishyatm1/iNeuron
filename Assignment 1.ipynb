{
 "cells": [
  {
   "cell_type": "code",
   "execution_count": null,
   "id": "33e3e760",
   "metadata": {},
   "outputs": [],
   "source": [
    "1. In the below elements which of them are values or an expression? eg:- values can be\n",
    "integer or string and expressions will be mathematical operators.\n",
    "*              - expression\n",
    "'hello'        - value\n",
    "-87.8          -value\n",
    "-              - expression\n",
    "/              - expression\n",
    "+              - expression\n",
    "6              - value"
   ]
  },
  {
   "cell_type": "code",
   "execution_count": null,
   "id": "f021c5b5",
   "metadata": {},
   "outputs": [],
   "source": [
    "2. What is the difference between string and variable?\n",
    "String is a datatype and can contain some value whereas variable is a container to store value."
   ]
  },
  {
   "cell_type": "code",
   "execution_count": null,
   "id": "f0865c46",
   "metadata": {},
   "outputs": [],
   "source": [
    "3. Describe three different data types.\n",
    "integer - whole numbers\n",
    "String - sequence of characters\n",
    "list - collection of values"
   ]
  },
  {
   "cell_type": "code",
   "execution_count": null,
   "id": "8f23c9ca",
   "metadata": {},
   "outputs": [],
   "source": [
    "4. What is an expression made up of? What do all expressions do?\n",
    "Expressions are made up of variables or values and operators. Expressions can be evaluated to a single value"
   ]
  },
  {
   "cell_type": "code",
   "execution_count": null,
   "id": "d249b0e6",
   "metadata": {},
   "outputs": [],
   "source": [
    "5. This assignment statements, like spam = 10. What is the difference between an\n",
    "expression and a statement?\n",
    "\n",
    "Any line of code is a statement and an expression is also a statement. \n",
    "Expressions contains operators."
   ]
  },
  {
   "cell_type": "code",
   "execution_count": 3,
   "id": "a0bccbdf",
   "metadata": {},
   "outputs": [
    {
     "data": {
      "text/plain": [
       "23"
      ]
     },
     "execution_count": 3,
     "metadata": {},
     "output_type": "execute_result"
    }
   ],
   "source": [
    "# 6. After running the following code, what does the variable bacon contain?\n",
    "bacon = 22\n",
    "bacon + 1\n",
    "bacon will contain 23"
   ]
  },
  {
   "cell_type": "code",
   "execution_count": 6,
   "id": "2a282aaa",
   "metadata": {},
   "outputs": [
    {
     "data": {
      "text/plain": [
       "'spamspamspam'"
      ]
     },
     "execution_count": 6,
     "metadata": {},
     "output_type": "execute_result"
    }
   ],
   "source": [
    "# 7. What should the values of the following two terms be?\n",
    "'spam' + 'spamspam'\n",
    "'spam'* 3\n",
    "both will give  :   'spamspamspam'"
   ]
  },
  {
   "cell_type": "code",
   "execution_count": 18,
   "id": "bb152e22",
   "metadata": {},
   "outputs": [],
   "source": [
    "8. Why is eggs a valid variable name while 100 is invalid?\n",
    "Variable name usually dont strat with digits."
   ]
  },
  {
   "cell_type": "code",
   "execution_count": null,
   "id": "453cb4f3",
   "metadata": {},
   "outputs": [],
   "source": [
    "9. What three functions can be used to get the integer, floating-point number, or string\n",
    "version of a value?\n",
    "x=100\n",
    "int(x)\n",
    "float(x)\n",
    "str(x)"
   ]
  },
  {
   "cell_type": "code",
   "execution_count": 17,
   "id": "403964d3",
   "metadata": {},
   "outputs": [
    {
     "data": {
      "text/plain": [
       "'I have eaten99burritos'"
      ]
     },
     "execution_count": 17,
     "metadata": {},
     "output_type": "execute_result"
    }
   ],
   "source": [
    "# 10. Why does this expression cause an error? How can you fix it?\n",
    "'I have eaten' + 99 + 'burritos'\n",
    "It causes an error because 99 is an integer value and not a string. This can be solved by converting it to string.\n",
    "'I have eaten' + '99' + 'burritos'"
   ]
  },
  {
   "cell_type": "code",
   "execution_count": null,
   "id": "8951518e",
   "metadata": {},
   "outputs": [],
   "source": []
  },
  {
   "cell_type": "code",
   "execution_count": null,
   "id": "5af8b23e",
   "metadata": {},
   "outputs": [],
   "source": []
  }
 ],
 "metadata": {
  "kernelspec": {
   "display_name": "Python 3 (ipykernel)",
   "language": "python",
   "name": "python3"
  },
  "language_info": {
   "codemirror_mode": {
    "name": "ipython",
    "version": 3
   },
   "file_extension": ".py",
   "mimetype": "text/x-python",
   "name": "python",
   "nbconvert_exporter": "python",
   "pygments_lexer": "ipython3",
   "version": "3.9.12"
  }
 },
 "nbformat": 4,
 "nbformat_minor": 5
}
