{
 "cells": [
  {
   "cell_type": "code",
   "execution_count": 1,
   "id": "5a7c43c3",
   "metadata": {},
   "outputs": [
    {
     "data": {
      "text/plain": [
       "'Hello Python'"
      ]
     },
     "execution_count": 1,
     "metadata": {},
     "output_type": "execute_result"
    }
   ],
   "source": [
    "# Write a Python program to print &quot;Hello Python&quot;?\n",
    "\"Hello Python\""
   ]
  },
  {
   "cell_type": "code",
   "execution_count": 2,
   "id": "82e55369",
   "metadata": {},
   "outputs": [
    {
     "name": "stdout",
     "output_type": "stream",
     "text": [
      "Sum = 15 and quotient = 2.0\n"
     ]
    }
   ],
   "source": [
    "#Write a Python program to do arithmetical operations addition and division.?\n",
    "a=10\n",
    "b=5\n",
    "sum=a+b\n",
    "quotient=a/b\n",
    "print(f\"Sum = {sum} and quotient = {quotient}\")"
   ]
  },
  {
   "cell_type": "code",
   "execution_count": 6,
   "id": "9c413cc7",
   "metadata": {},
   "outputs": [
    {
     "name": "stdout",
     "output_type": "stream",
     "text": [
      "enter length5\n",
      "enter breadth5\n",
      "enter height5\n",
      "area =62.5\n"
     ]
    }
   ],
   "source": [
    "#Write a Python program to find the area of a triangle?\n",
    "l=int(input(\"enter length\"))\n",
    "b=int(input(\"enter breadth\"))\n",
    "h=int(input(\"enter height\"))\n",
    "area=(1/2)*l*b*h\n",
    "print(f\"area ={area}\")"
   ]
  },
  {
   "cell_type": "code",
   "execution_count": 8,
   "id": "05a8fda5",
   "metadata": {},
   "outputs": [
    {
     "name": "stdout",
     "output_type": "stream",
     "text": [
      "Before swap a=4, b=6\n",
      "After swap a=6, b=4\n"
     ]
    }
   ],
   "source": [
    "#Write a Python program to swap two variables?\n",
    "a=4\n",
    "b=6\n",
    "print(f\"Before swap a={a}, b={b}\")\n",
    "temp=a\n",
    "a=b\n",
    "b=temp\n",
    "print(f\"After swap a={a}, b={b}\")"
   ]
  },
  {
   "cell_type": "code",
   "execution_count": 28,
   "id": "6347c801",
   "metadata": {},
   "outputs": [
    {
     "name": "stdout",
     "output_type": "stream",
     "text": [
      "Enter the number of digits for random number: 20\n",
      "38182314815718208402\n"
     ]
    }
   ],
   "source": [
    "#Write a Python program to generate a random number?\n",
    "import random\n",
    "dgt = int(input(\"Enter the number of digits for random number: \"))\n",
    "print(random.randint(10**(dgt-1),10**dgt-1))"
   ]
  },
  {
   "cell_type": "code",
   "execution_count": null,
   "id": "a4759d24",
   "metadata": {},
   "outputs": [],
   "source": [
    "\n"
   ]
  },
  {
   "cell_type": "code",
   "execution_count": null,
   "id": "89d535bd",
   "metadata": {},
   "outputs": [],
   "source": []
  }
 ],
 "metadata": {
  "kernelspec": {
   "display_name": "Python 3 (ipykernel)",
   "language": "python",
   "name": "python3"
  },
  "language_info": {
   "codemirror_mode": {
    "name": "ipython",
    "version": 3
   },
   "file_extension": ".py",
   "mimetype": "text/x-python",
   "name": "python",
   "nbconvert_exporter": "python",
   "pygments_lexer": "ipython3",
   "version": "3.9.12"
  }
 },
 "nbformat": 4,
 "nbformat_minor": 5
}
