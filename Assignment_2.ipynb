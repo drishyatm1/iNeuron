{
 "cells": [
  {
   "cell_type": "code",
   "execution_count": null,
   "id": "305f9c08",
   "metadata": {},
   "outputs": [],
   "source": [
    "# 1.What are the two values of the Boolean data type? How do you write them?\n",
    "Two values of the Boolean data type are 0 and 1\n",
    "True \n",
    "False"
   ]
  },
  {
   "cell_type": "code",
   "execution_count": null,
   "id": "0f93c520",
   "metadata": {},
   "outputs": [],
   "source": [
    "# 2.What are the three different types of Boolean operators?\n",
    "and\n",
    "or\n",
    "not"
   ]
  },
  {
   "cell_type": "code",
   "execution_count": null,
   "id": "d8fc5c75",
   "metadata": {},
   "outputs": [],
   "source": [
    "# 3.Make a list of each Boolean operator&#39;s truth tables (i.e. every possible combination of Boolean\n",
    "#values for the operator and what it evaluate ).\n",
    "AND\n",
    "A   B   result\n",
    "1   1   1\n",
    "1   0   0\n",
    "0   1   0\n",
    "0   0   0\n",
    "\n",
    "OR\n",
    "A   B   result\n",
    "1   1   1\n",
    "1   0   1\n",
    "0   1   1\n",
    "0   0   0\n",
    "\n",
    "NOT\n",
    "OR\n",
    "A   B   \n",
    "1   0   \n",
    "0   1   \n"
   ]
  },
  {
   "cell_type": "code",
   "execution_count": null,
   "id": "4a5311fa",
   "metadata": {},
   "outputs": [],
   "source": [
    "# 4.What are the values of the following expressions?\n",
    "(5 > 4) and (3 == 5)  #False"
   ]
  },
  {
   "cell_type": "code",
   "execution_count": null,
   "id": "40bfbfa0",
   "metadata": {},
   "outputs": [],
   "source": [
    "not (5 > 4) #False"
   ]
  },
  {
   "cell_type": "code",
   "execution_count": null,
   "id": "8ce83e72",
   "metadata": {},
   "outputs": [],
   "source": [
    "(5 > 4) or (3 == 5) # true"
   ]
  },
  {
   "cell_type": "code",
   "execution_count": null,
   "id": "27ca8c71",
   "metadata": {},
   "outputs": [],
   "source": [
    "not ((5 > 4) or (3 == 5))   #false"
   ]
  },
  {
   "cell_type": "code",
   "execution_count": null,
   "id": "ada7ede7",
   "metadata": {},
   "outputs": [],
   "source": [
    "(True and True) and (True == False) #False"
   ]
  },
  {
   "cell_type": "code",
   "execution_count": null,
   "id": "dac48949",
   "metadata": {},
   "outputs": [],
   "source": [
    "(not False) or (not True)  # true"
   ]
  },
  {
   "cell_type": "code",
   "execution_count": null,
   "id": "cb8099df",
   "metadata": {},
   "outputs": [],
   "source": [
    "# 5. What are the six comparison operators?\n",
    "< , <= , > , >= , == , !="
   ]
  },
  {
   "cell_type": "code",
   "execution_count": null,
   "id": "23e01b5f",
   "metadata": {},
   "outputs": [],
   "source": [
    "# 6. How do you tell the difference between the equal to and assignment operators?Describe a\n",
    "#condition and when you would use one.\n",
    "Assignment operator (=) assigns value of right side of expression to left side operand.\n",
    "Eg : x=5\n",
    "\n",
    "== is used as for comparing two values.\n",
    "Eg:\n",
    "x=5\n",
    "y=5\n",
    "x==y    #this will be true as value of x and y are 5"
   ]
  },
  {
   "cell_type": "code",
   "execution_count": null,
   "id": "cb588481",
   "metadata": {},
   "outputs": [],
   "source": [
    "#7. Identify the three blocks in this code:\n",
    "spam = 0\n",
    "if spam == 10:          # 1st block\n",
    "    print('eggs')\n",
    "if spam > 5:            # 2nd block\n",
    "    print('bacon')\n",
    "else:                   # 3rd block\n",
    "    print('ham')\n",
    "    print('spam')\n",
    "    print('spam')"
   ]
  },
  {
   "cell_type": "code",
   "execution_count": null,
   "id": "e84ca90c",
   "metadata": {},
   "outputs": [],
   "source": [
    "# 8. Write code that prints Hello if 1 is stored in spam, prints Howdy if 2 is stored in spam, and prints\n",
    "#Greetings! if anything else is stored in spam.\n",
    "x=input(\"enter value of spam :\")\n",
    "spam = int(x)\n",
    "if spam == 1:          \n",
    "    print('Hello')\n",
    "elif spam ==2:            \n",
    "    print('Howdy')\n",
    "else:                   \n",
    "    print('Greetings!')\n",
    "   "
   ]
  },
  {
   "cell_type": "code",
   "execution_count": null,
   "id": "e08fbc9c",
   "metadata": {},
   "outputs": [],
   "source": [
    "# 9.If your programme is stuck in an endless loop, what keys you’ll press?\n",
    "esc+ii"
   ]
  },
  {
   "cell_type": "code",
   "execution_count": null,
   "id": "034d2024",
   "metadata": {},
   "outputs": [],
   "source": [
    "# 10 How can you tell the difference between break and continue?\n",
    "break is used for immediate termination of loop.\n",
    "continue terminates current iteration and continues with next iteration."
   ]
  },
  {
   "cell_type": "code",
   "execution_count": null,
   "id": "19c71973",
   "metadata": {},
   "outputs": [],
   "source": [
    "# 11 In a for loop, what is the difference between range(10), range(0, 10), and range(0, 10, 1)?\n",
    "There is no difference between range (10), range (0,10) and range (0,10,1). range function in \n",
    "Python takes 3 arguments and they are initial value, final value and increment value."
   ]
  },
  {
   "cell_type": "code",
   "execution_count": 2,
   "id": "274ad19c",
   "metadata": {},
   "outputs": [
    {
     "name": "stdout",
     "output_type": "stream",
     "text": [
      "1\n",
      "2\n",
      "3\n",
      "4\n",
      "5\n",
      "6\n",
      "7\n",
      "8\n",
      "9\n",
      "10\n"
     ]
    }
   ],
   "source": [
    "# 12 Write a short program that prints the numbers 1 to 10 using a for loop. Then write an equivalent\n",
    "# program that prints the numbers 1 to 10 using a while loop.\n",
    "for i in range(1,11):\n",
    "    print(i)"
   ]
  },
  {
   "cell_type": "code",
   "execution_count": 4,
   "id": "2f44d193",
   "metadata": {},
   "outputs": [
    {
     "name": "stdout",
     "output_type": "stream",
     "text": [
      "1\n",
      "2\n",
      "3\n",
      "4\n",
      "5\n",
      "6\n",
      "7\n",
      "8\n",
      "9\n",
      "10\n"
     ]
    }
   ],
   "source": [
    "i=1\n",
    "while (i<=10):\n",
    "    print(i)\n",
    "    i=i+1"
   ]
  },
  {
   "cell_type": "code",
   "execution_count": null,
   "id": "5d523e43",
   "metadata": {},
   "outputs": [],
   "source": [
    "# 13 If you had a function named bacon() inside a module named spam, how would you call it after importing spam?\n",
    "spam.bacon()"
   ]
  }
 ],
 "metadata": {
  "kernelspec": {
   "display_name": "Python 3 (ipykernel)",
   "language": "python",
   "name": "python3"
  },
  "language_info": {
   "codemirror_mode": {
    "name": "ipython",
    "version": 3
   },
   "file_extension": ".py",
   "mimetype": "text/x-python",
   "name": "python",
   "nbconvert_exporter": "python",
   "pygments_lexer": "ipython3",
   "version": "3.9.12"
  }
 },
 "nbformat": 4,
 "nbformat_minor": 5
}
