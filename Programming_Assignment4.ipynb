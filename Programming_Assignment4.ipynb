{
 "cells": [
  {
   "cell_type": "code",
   "execution_count": 5,
   "id": "2c1eb59e",
   "metadata": {},
   "outputs": [
    {
     "name": "stdout",
     "output_type": "stream",
     "text": [
      "enter a number : 10\n",
      " Factorial = 3628800\n"
     ]
    }
   ],
   "source": [
    "#Write a Python Program to Find the Factorial of a Number?\n",
    "x=int(input(\"enter a number : \"))\n",
    "f=1\n",
    "for i in range(1,x+1):\n",
    "    f=f*i\n",
    "print(f\" Factorial = {f}\")"
   ]
  },
  {
   "cell_type": "code",
   "execution_count": 8,
   "id": "3663f639",
   "metadata": {},
   "outputs": [
    {
     "name": "stdout",
     "output_type": "stream",
     "text": [
      "enter a number : 2\n",
      "2 * 1 = 2\n",
      "2 * 2 = 4\n",
      "2 * 3 = 6\n",
      "2 * 4 = 8\n",
      "2 * 5 = 10\n",
      "2 * 6 = 12\n",
      "2 * 7 = 14\n",
      "2 * 8 = 16\n",
      "2 * 9 = 18\n",
      "2 * 10 = 20\n"
     ]
    }
   ],
   "source": [
    "#Write a Python Program to Display the multiplication Table?\n",
    "x=int(input(\"enter a number : \"))\n",
    "for i in range(1,11):\n",
    "    print(f\"{x} * {i} = {x*i}\")"
   ]
  },
  {
   "cell_type": "code",
   "execution_count": 40,
   "id": "20f94c51",
   "metadata": {},
   "outputs": [
    {
     "name": "stdout",
     "output_type": "stream",
     "text": [
      "enter a number : 11\n",
      "0\n",
      "1\n",
      "1\n",
      "2\n",
      "3\n",
      "5\n",
      "8\n",
      "13\n",
      "21\n",
      "34\n",
      "55\n",
      "89\n"
     ]
    }
   ],
   "source": [
    "#Write a Python Program to Print the Fibonacci sequence?\n",
    "# 1 1 2 3 5 8 13\n",
    "x=int(input(\"enter a number : \"))\n",
    "a=0\n",
    "b=1\n",
    "print(a)\n",
    "for i in range(1,x+1):\n",
    "    c=a+b\n",
    "    b=a\n",
    "    a=c\n",
    "    print(c)"
   ]
  },
  {
   "cell_type": "code",
   "execution_count": 41,
   "id": "43df165e",
   "metadata": {},
   "outputs": [
    {
     "name": "stdout",
     "output_type": "stream",
     "text": [
      "enter a number : 153\n",
      "153 is an armstrong number\n"
     ]
    }
   ],
   "source": [
    "#Write a Python Program to Check Armstrong Number?\n",
    "#153\n",
    "x=int(input(\"enter a number : \"))\n",
    "r=x\n",
    "y=x\n",
    "a=0\n",
    "c=0\n",
    "while(y!=0):\n",
    "    y=y//10\n",
    "    c=c+1\n",
    "while(x!=0):\n",
    "    k=x%10\n",
    "    a=a+pow(k,c)\n",
    "    x=x//10\n",
    "if a==r:\n",
    "    print(f\"{r} is an armstrong number\")\n",
    "else:\n",
    "    print(f\"{r} is not an armstrong number\")"
   ]
  },
  {
   "cell_type": "code",
   "execution_count": 53,
   "id": "ef551d4e",
   "metadata": {},
   "outputs": [
    {
     "name": "stdout",
     "output_type": "stream",
     "text": [
      "enter a lower limit : 100\n",
      "enter a upper limit : 10000\n",
      "153\n",
      "370\n",
      "371\n",
      "407\n",
      "1634\n",
      "8208\n",
      "9474\n"
     ]
    }
   ],
   "source": [
    "#Write a Python Program to Find Armstrong Number in an Interval?\n",
    "x=int(input(\"enter a lower limit : \"))\n",
    "y=int(input(\"enter a upper limit : \"))\n",
    "b=[]\n",
    "\n",
    "\n",
    "for i in range(x,y+1):\n",
    "    a=0\n",
    "    t=i\n",
    "    t1=i\n",
    "    t2=i\n",
    "    c=0\n",
    "    while(t!=0):\n",
    "        t=t//10\n",
    "        c=c+1\n",
    "   # print(f\"c : {c}\")\n",
    "    while(t1!=0):\n",
    "        k=t1%10\n",
    "        a=a+pow(k,c)\n",
    "        t1=t1//10\n",
    "#         print(f\"t2:{t2}\")\n",
    "#         print(f\"a :{a}\")\n",
    "    if a==t2:\n",
    "        print(t2)\n",
    "        "
   ]
  },
  {
   "cell_type": "code",
   "execution_count": 31,
   "id": "5de577a4",
   "metadata": {},
   "outputs": [
    {
     "name": "stdout",
     "output_type": "stream",
     "text": [
      "enter a limit : 10\n",
      "55\n"
     ]
    }
   ],
   "source": [
    "#Write a Python Program to Find the Sum of Natural Numbers?\n",
    "x=int(input(\"enter a limit : \"))\n",
    "sum=0\n",
    "for i in range(1,x+1):\n",
    "    sum=sum+i\n",
    "print (sum)"
   ]
  },
  {
   "cell_type": "code",
   "execution_count": null,
   "id": "32c7b222",
   "metadata": {},
   "outputs": [],
   "source": []
  }
 ],
 "metadata": {
  "kernelspec": {
   "display_name": "Python 3 (ipykernel)",
   "language": "python",
   "name": "python3"
  },
  "language_info": {
   "codemirror_mode": {
    "name": "ipython",
    "version": 3
   },
   "file_extension": ".py",
   "mimetype": "text/x-python",
   "name": "python",
   "nbconvert_exporter": "python",
   "pygments_lexer": "ipython3",
   "version": "3.9.12"
  }
 },
 "nbformat": 4,
 "nbformat_minor": 5
}
