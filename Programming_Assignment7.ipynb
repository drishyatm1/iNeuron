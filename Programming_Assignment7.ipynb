{
 "cells": [
  {
   "cell_type": "code",
   "execution_count": 15,
   "id": "49968381",
   "metadata": {},
   "outputs": [
    {
     "name": "stdout",
     "output_type": "stream",
     "text": [
      "enter the elements in array : 49506\n",
      "24\n"
     ]
    }
   ],
   "source": [
    "#1 Write a Python Program to find sum of array?\n",
    "a=input(\"enter the elements in array : \")\n",
    "b=list(a)\n",
    "s=0\n",
    "for i in range(len(b)):\n",
    "    s=s+int(b[i])\n",
    "print(s)"
   ]
  },
  {
   "cell_type": "code",
   "execution_count": 1,
   "id": "0bd71c84",
   "metadata": {},
   "outputs": [
    {
     "name": "stdout",
     "output_type": "stream",
     "text": [
      "100\n"
     ]
    }
   ],
   "source": [
    "#2 Write a Python Program to find largest element in an array?\n",
    "a=[4,17,100,89,10]\n",
    "l=a[0]\n",
    "for i in range(1,len(a)):\n",
    "    if l<a[i]:\n",
    "        l=a[i]\n",
    "print(l)\n",
    "    "
   ]
  },
  {
   "cell_type": "code",
   "execution_count": 24,
   "id": "c2d847ae",
   "metadata": {},
   "outputs": [
    {
     "data": {
      "text/plain": [
       "[10, 89, 1, 17, 4]"
      ]
     },
     "execution_count": 24,
     "metadata": {},
     "output_type": "execute_result"
    }
   ],
   "source": [
    "#3 Write a Python Program for array rotation?\n",
    "a=[4,17,1,89,10]\n",
    "a[-1::-1]\n",
    "    "
   ]
  },
  {
   "cell_type": "code",
   "execution_count": 34,
   "id": "bb508f85",
   "metadata": {},
   "outputs": [
    {
     "data": {
      "text/plain": [
       "[89, 10, 8, 9, 56, 4, 17, 1]"
      ]
     },
     "execution_count": 34,
     "metadata": {},
     "output_type": "execute_result"
    }
   ],
   "source": [
    "#4 Write a Python Program to Split the array and add the first part to the end?\n",
    "a=[4,17,1,89,10,8,9,56]\n",
    "b=[]\n",
    "c=[]\n",
    "b=a[0:3:1]\n",
    "c=a[3::1]\n",
    "d=c+b\n",
    "d"
   ]
  },
  {
   "cell_type": "code",
   "execution_count": 11,
   "id": "cee122f9",
   "metadata": {},
   "outputs": [
    {
     "name": "stdout",
     "output_type": "stream",
     "text": [
      "array is monotonic\n"
     ]
    }
   ],
   "source": [
    "#5 Write a Python Program to check if given array is Monotonic?\n",
    "a=[1,2,3,4,8,5,6]\n",
    "c=1\n",
    "for i in range(len(a)-1):\n",
    "    if(a[i]<a[i+1] ):\n",
    "        c=0\n",
    "    else:\n",
    "        c=1\n",
    "if c==0:\n",
    "    print(\"array is monotonic\")\n",
    "else:\n",
    "     print(\"array is not monotonic\")\n"
   ]
  },
  {
   "cell_type": "code",
   "execution_count": null,
   "id": "add6bc25",
   "metadata": {},
   "outputs": [],
   "source": []
  }
 ],
 "metadata": {
  "kernelspec": {
   "display_name": "Python 3 (ipykernel)",
   "language": "python",
   "name": "python3"
  },
  "language_info": {
   "codemirror_mode": {
    "name": "ipython",
    "version": 3
   },
   "file_extension": ".py",
   "mimetype": "text/x-python",
   "name": "python",
   "nbconvert_exporter": "python",
   "pygments_lexer": "ipython3",
   "version": "3.9.12"
  }
 },
 "nbformat": 4,
 "nbformat_minor": 5
}
